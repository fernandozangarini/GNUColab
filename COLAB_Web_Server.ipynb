{
  "nbformat": 4,
  "nbformat_minor": 0,
  "metadata": {
    "colab": {
      "provenance": [],
      "include_colab_link": true
    },
    "kernelspec": {
      "name": "python3",
      "display_name": "Python 3"
    },
    "accelerator": "TPU"
  },
  "cells": [
    {
      "cell_type": "markdown",
      "metadata": {
        "id": "view-in-github",
        "colab_type": "text"
      },
      "source": [
        "<a href=\"https://colab.research.google.com/github/fernandozangarini/GNUColab/blob/master/COLAB_Web_Server.ipynb\" target=\"_parent\"><img src=\"https://colab.research.google.com/assets/colab-badge.svg\" alt=\"Open In Colab\"/></a>"
      ]
    },
    {
      "cell_type": "markdown",
      "metadata": {
        "id": "bZVUy_8r5Rsg"
      },
      "source": [
        "Created by Carlos Toxtli http://www.carlostoxtli.com/#colab-rpaweb-1"
      ]
    },
    {
      "cell_type": "code",
      "metadata": {
        "id": "UYbOWszfSMSy"
      },
      "source": [
        "import os"
      ],
      "execution_count": 1,
      "outputs": []
    },
    {
      "cell_type": "code",
      "metadata": {
        "id": "VH06fzY1OU--"
      },
      "source": [
        "run_thread = True\n",
        "first_time = True\n",
        "server = None"
      ],
      "execution_count": 2,
      "outputs": []
    },
    {
      "cell_type": "code",
      "metadata": {
        "id": "MGnTw1ZP8p-f",
        "outputId": "a7ff024c-9d2c-4bb4-bc5b-9e75f1e0b3c3",
        "colab": {
          "base_uri": "https://localhost:8080/"
        }
      },
      "source": [
        "import socket\n",
        "local_ip = socket.gethostbyname(socket.getfqdn(socket.gethostname()))\n",
        "print(local_ip)"
      ],
      "execution_count": 11,
      "outputs": [
        {
          "output_type": "stream",
          "name": "stdout",
          "text": [
            "172.28.0.12\n"
          ]
        }
      ]
    },
    {
      "cell_type": "code",
      "metadata": {
        "id": "Xnn2TC9MBwi6"
      },
      "source": [
        "import os, sys, requests, json\n",
        "from multiprocessing import Process\n",
        "from __future__ import print_function\n",
        "from flask import Flask, request, abort, logging\n",
        "\n",
        "app = Flask(__name__)\n",
        "\n",
        "@app.route(\"/\", methods=['GET'])\n",
        "def test():\n",
        "    salida = {'status':'OK','message':'Test'}\n",
        "    return json.dumps(salida)\n",
        "\n",
        "def stop_server():\n",
        "  global server\n",
        "  if server is not None:\n",
        "    server.terminate()\n",
        "    server.join()\n",
        "\n",
        "def start_server(run_thread):\n",
        "  global server\n",
        "  if run_thread:\n",
        "    server = Process(target=app.run, kwargs={'host':local_ip,'port':8080})\n",
        "    server.start()\n",
        "  else:\n",
        "    app.run(host=local_ip, port=80)"
      ],
      "execution_count": 12,
      "outputs": []
    },
    {
      "cell_type": "code",
      "metadata": {
        "id": "ID6Ooc9O-fOl",
        "outputId": "add4528c-5b8e-4af5-fde6-113341f59d0d",
        "colab": {
          "base_uri": "https://localhost:8080/"
        }
      },
      "source": [
        "stop_server()\n",
        "start_server(run_thread)\n",
        "run_thread = True"
      ],
      "execution_count": 13,
      "outputs": [
        {
          "output_type": "stream",
          "name": "stdout",
          "text": [
            " * Serving Flask app '__main__'\n",
            " * Debug mode: off\n"
          ]
        },
        {
          "output_type": "stream",
          "name": "stderr",
          "text": [
            "Address already in use\n",
            "Port 8080 is in use by another program. Either identify and stop that program, or start the server with a different port.\n"
          ]
        }
      ]
    },
    {
      "cell_type": "code",
      "metadata": {
        "id": "lrO47YxeJzTl",
        "outputId": "f6af6364-ccd4-41f3-f2c9-dce9aa22dbb2",
        "colab": {
          "base_uri": "https://localhost:8080/"
        }
      },
      "source": [
        "import requests\n",
        "r = requests.get(\"http://\" + local_ip)\n",
        "print(r.status_code)\n",
        "print(r.encoding)\n",
        "print(r.apparent_encoding)\n",
        "print(r.text)"
      ],
      "execution_count": 6,
      "outputs": [
        {
          "output_type": "stream",
          "name": "stdout",
          "text": [
            "200\n",
            "utf-8\n",
            "ascii\n",
            "{\"status\": \"OK\", \"message\": \"Test\"}\n"
          ]
        }
      ]
    },
    {
      "cell_type": "code",
      "metadata": {
        "id": "OFUJUrdGN_s1",
        "outputId": "25b611ea-8c2f-47b8-a917-bea17e2318ec",
        "colab": {
          "base_uri": "https://localhost:8080/"
        }
      },
      "source": [
        "subdomain = \"aiwork000\"\n",
        "!nohup ssh -o StrictHostKeyChecking=no -R {subdomain}:80:{local_ip}:80 serveo.net &\n",
        "public_url = 'https://' + subdomain + '.serveo.net'\n",
        "print(public_url)"
      ],
      "execution_count": 10,
      "outputs": [
        {
          "output_type": "stream",
          "name": "stdout",
          "text": [
            "nohup: appending output to 'nohup.out'\n",
            "https://aiwork000.serveo.net\n"
          ]
        }
      ]
    },
    {
      "cell_type": "code",
      "metadata": {
        "id": "0ek2xpRqSj2Z",
        "outputId": "8cd6cb63-26ff-42b4-891c-1fbdfd0c86a7",
        "colab": {
          "base_uri": "https://localhost:8080/"
        }
      },
      "source": [
        "r = requests.get(public_url)\n",
        "print(r.text)\n",
        "first_time = False"
      ],
      "execution_count": 8,
      "outputs": [
        {
          "output_type": "stream",
          "name": "stdout",
          "text": [
            "\n"
          ]
        }
      ]
    },
    {
      "cell_type": "code",
      "metadata": {
        "id": "p2iKneGlLpjs",
        "outputId": "cf231f85-0c77-4991-d731-2d0e1028c71b",
        "colab": {
          "base_uri": "https://localhost:8080/"
        }
      },
      "source": [
        "!cat nohup.out"
      ],
      "execution_count": 9,
      "outputs": [
        {
          "output_type": "stream",
          "name": "stdout",
          "text": [
            "Pseudo-terminal will not be allocated because stdin is not a terminal.\r\n",
            "Warning: Permanently added 'serveo.net,159.89.214.31' (RSA) to the list of known hosts.\r\n",
            "\u001b[33mTo request a particular subdomain, you first need to generate a key. Use the command\r\n",
            "ssh-keygen to generate your key. For more information about generating and using\r\n",
            "ssh keys, see https://www.ssh.com/academy/ssh/keygen. Once you've generated a key,\r\n",
            "try again, and these instructions will be replaced with instructions on how to\r\n",
            "register your key with serveo.\r\n",
            "\n",
            "\u001b[0m\u001b[32mForwarding HTTP traffic from https://ipsa.serveo.net\r\n",
            "\u001b[0m"
          ]
        }
      ]
    },
    {
      "cell_type": "code",
      "metadata": {
        "id": "PQRxNp8ZUTLQ"
      },
      "source": [
        "if first_time:\n",
        "  !pkill ssh"
      ],
      "execution_count": null,
      "outputs": []
    }
  ]
}